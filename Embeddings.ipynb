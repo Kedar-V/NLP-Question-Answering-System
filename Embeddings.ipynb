{
  "nbformat": 4,
  "nbformat_minor": 0,
  "metadata": {
    "accelerator": "GPU",
    "colab": {
      "name": "LibKge_sciQ.ipynb",
      "provenance": [],
      "collapsed_sections": [
        "qJna0fdFo63j",
        "x40y4fo9pEo2"
      ],
      "machine_shape": "hm"
    },
    "kernelspec": {
      "display_name": "Python 3",
      "name": "python3"
    },
    "language_info": {
      "name": "python"
    }
  },
  "cells": [
    {
      "cell_type": "code",
      "metadata": {
        "colab": {
          "base_uri": "https://localhost:8080/"
        },
        "id": "pI7-_-HA6bcr",
        "outputId": "86421b67-edb2-4896-eac7-7d9e1fb2bd3f"
      },
      "source": [
        "from google.colab import drive\n",
        "drive.mount('/content/drive')"
      ],
      "execution_count": null,
      "outputs": [
        {
          "output_type": "stream",
          "name": "stdout",
          "text": [
            "Mounted at /content/drive\n"
          ]
        }
      ]
    },
    {
      "cell_type": "markdown",
      "metadata": {
        "id": "qJna0fdFo63j"
      },
      "source": [
        "# **Loading KB Tuples**"
      ]
    },
    {
      "cell_type": "code",
      "metadata": {
        "colab": {
          "base_uri": "https://localhost:8080/"
        },
        "id": "2GAt8Pb8k8VG",
        "outputId": "4c1feb44-4611-48e4-bc12-e6a7fc1df217"
      },
      "source": [
        "%cd /content "
      ],
      "execution_count": null,
      "outputs": [
        {
          "name": "stdout",
          "output_type": "stream",
          "text": [
            "/content\n"
          ]
        }
      ]
    },
    {
      "cell_type": "code",
      "metadata": {
        "colab": {
          "base_uri": "https://localhost:8080/"
        },
        "id": "zKhIVU6xkgko",
        "outputId": "2c19fa5e-169d-4ed9-be52-0ef9b79f67b0"
      },
      "source": [
        "!wget https://ai2-public-datasets.s3.amazonaws.com/tuple-kb/aristo-tuple-kb-v4-mar2017.zip"
      ],
      "execution_count": null,
      "outputs": [
        {
          "name": "stdout",
          "output_type": "stream",
          "text": [
            "--2021-09-28 20:33:50--  https://ai2-public-datasets.s3.amazonaws.com/tuple-kb/aristo-tuple-kb-v4-mar2017.zip\n",
            "Resolving ai2-public-datasets.s3.amazonaws.com (ai2-public-datasets.s3.amazonaws.com)... 52.218.252.107\n",
            "Connecting to ai2-public-datasets.s3.amazonaws.com (ai2-public-datasets.s3.amazonaws.com)|52.218.252.107|:443... connected.\n",
            "HTTP request sent, awaiting response... 200 OK\n",
            "Length: 23190065 (22M) [binary/octet-stream]\n",
            "Saving to: ‘aristo-tuple-kb-v4-mar2017.zip’\n",
            "\n",
            "aristo-tuple-kb-v4- 100%[===================>]  22.12M  20.5MB/s    in 1.1s    \n",
            "\n",
            "2021-09-28 20:33:51 (20.5 MB/s) - ‘aristo-tuple-kb-v4-mar2017.zip’ saved [23190065/23190065]\n",
            "\n"
          ]
        }
      ]
    },
    {
      "cell_type": "code",
      "metadata": {
        "colab": {
          "base_uri": "https://localhost:8080/"
        },
        "id": "tT_nbwiOlErR",
        "outputId": "c404d67c-cc80-45b2-f82a-bfb924f9cd7b"
      },
      "source": [
        "!unzip /content/aristo-tuple-kb-v4-mar2017.zip"
      ],
      "execution_count": null,
      "outputs": [
        {
          "name": "stdout",
          "output_type": "stream",
          "text": [
            "Archive:  /content/aristo-tuple-kb-v4-mar2017.zip\n",
            "   creating: aristo-tuple-kb-v4-mar2017/\n",
            "  inflating: aristo-tuple-kb-v4-mar2017/COMBINED-KB.tsv  \n",
            "   creating: __MACOSX/\n",
            "   creating: __MACOSX/aristo-tuple-kb-v4-mar2017/\n",
            "  inflating: __MACOSX/aristo-tuple-kb-v4-mar2017/._COMBINED-KB.tsv  \n",
            "  inflating: aristo-tuple-kb-v4-mar2017/Creative Commons - Attribution-ShareAlike 4.0 International - CC BY-SA 4.pdf  \n",
            "  inflating: __MACOSX/aristo-tuple-kb-v4-mar2017/._Creative Commons - Attribution-ShareAlike 4.0 International - CC BY-SA 4.pdf  \n",
            "  inflating: aristo-tuple-kb-v4-mar2017/Domain Vocabulary - mar2016.tsv  \n",
            "  inflating: __MACOSX/aristo-tuple-kb-v4-mar2017/._Domain Vocabulary - mar2016.tsv  \n",
            "  inflating: aristo-tuple-kb-v4-mar2017/entities.tsv  \n",
            "  inflating: __MACOSX/aristo-tuple-kb-v4-mar2017/._entities.tsv  \n",
            "   creating: aristo-tuple-kb-v4-mar2017/kb-components/\n",
            "  inflating: aristo-tuple-kb-v4-mar2017/kb-components/animal-negatives.tsv  \n",
            "   creating: __MACOSX/aristo-tuple-kb-v4-mar2017/kb-components/\n",
            "  inflating: __MACOSX/aristo-tuple-kb-v4-mar2017/kb-components/._animal-negatives.tsv  \n",
            "  inflating: aristo-tuple-kb-v4-mar2017/kb-components/animal.tsv  \n",
            "  inflating: __MACOSX/aristo-tuple-kb-v4-mar2017/kb-components/._animal.tsv  \n",
            "  inflating: aristo-tuple-kb-v4-mar2017/kb-components/isa.tsv  \n",
            "  inflating: __MACOSX/aristo-tuple-kb-v4-mar2017/kb-components/._isa.tsv  \n",
            "  inflating: aristo-tuple-kb-v4-mar2017/kb-components/partof.tsv  \n",
            "  inflating: __MACOSX/aristo-tuple-kb-v4-mar2017/kb-components/._partof.tsv  \n",
            "  inflating: aristo-tuple-kb-v4-mar2017/kb-components/parts.tsv  \n",
            "  inflating: __MACOSX/aristo-tuple-kb-v4-mar2017/kb-components/._parts.tsv  \n",
            "  inflating: aristo-tuple-kb-v4-mar2017/kb-components/science-inferred.tsv  \n",
            "  inflating: __MACOSX/aristo-tuple-kb-v4-mar2017/kb-components/._science-inferred.tsv  \n",
            "  inflating: aristo-tuple-kb-v4-mar2017/kb-components/science.tsv  \n",
            "  inflating: __MACOSX/aristo-tuple-kb-v4-mar2017/kb-components/._science.tsv  \n",
            "  inflating: __MACOSX/aristo-tuple-kb-v4-mar2017/._kb-components  \n",
            "  inflating: aristo-tuple-kb-v4-mar2017/README.txt  \n",
            "  inflating: __MACOSX/aristo-tuple-kb-v4-mar2017/._README.txt  \n",
            "  inflating: aristo-tuple-kb-v4-mar2017/relations.tsv  \n",
            "  inflating: __MACOSX/aristo-tuple-kb-v4-mar2017/._relations.tsv  \n",
            "   creating: aristo-tuple-kb-v4-mar2017/TACL/\n",
            "  inflating: aristo-tuple-kb-v4-mar2017/TACL/TACL-kb.tsv  \n",
            "   creating: __MACOSX/aristo-tuple-kb-v4-mar2017/TACL/\n",
            "  inflating: __MACOSX/aristo-tuple-kb-v4-mar2017/TACL/._TACL-kb.tsv  \n",
            "  inflating: aristo-tuple-kb-v4-mar2017/TACL/TACL-paper.pdf  \n",
            "  inflating: __MACOSX/aristo-tuple-kb-v4-mar2017/TACL/._TACL-paper.pdf  \n",
            "  inflating: __MACOSX/aristo-tuple-kb-v4-mar2017/._TACL  \n",
            "  inflating: aristo-tuple-kb-v4-mar2017/type-taxonomy.tsv  \n",
            "  inflating: __MACOSX/aristo-tuple-kb-v4-mar2017/._type-taxonomy.tsv  \n",
            "  inflating: aristo-tuple-kb-v4-mar2017/types.tsv  \n",
            "  inflating: __MACOSX/aristo-tuple-kb-v4-mar2017/._types.tsv  \n",
            "  inflating: __MACOSX/._aristo-tuple-kb-v4-mar2017  \n"
          ]
        }
      ]
    },
    {
      "cell_type": "markdown",
      "metadata": {
        "id": "x40y4fo9pEo2"
      },
      "source": [
        "# **Libkge Preprocessing**"
      ]
    },
    {
      "cell_type": "code",
      "metadata": {
        "colab": {
          "base_uri": "https://localhost:8080/",
          "height": 205
        },
        "id": "RKIltIHqpMet",
        "outputId": "63444f5c-fdbc-4828-c625-4bd5397a2051"
      },
      "source": [
        "kb_file = '/content/aristo-tuple-kb-v4-mar2017/COMBINED-KB.tsv'\n",
        "import pandas as pd\n",
        "\n",
        "df = pd.read_csv(kb_file, sep='\\t')\n",
        "df = df[['Arg1', 'Pred', 'Arg2']]\n",
        "df.head()"
      ],
      "execution_count": null,
      "outputs": [
        {
          "data": {
            "text/html": [
              "<div>\n",
              "<style scoped>\n",
              "    .dataframe tbody tr th:only-of-type {\n",
              "        vertical-align: middle;\n",
              "    }\n",
              "\n",
              "    .dataframe tbody tr th {\n",
              "        vertical-align: top;\n",
              "    }\n",
              "\n",
              "    .dataframe thead th {\n",
              "        text-align: right;\n",
              "    }\n",
              "</style>\n",
              "<table border=\"1\" class=\"dataframe\">\n",
              "  <thead>\n",
              "    <tr style=\"text-align: right;\">\n",
              "      <th></th>\n",
              "      <th>Arg1</th>\n",
              "      <th>Pred</th>\n",
              "      <th>Arg2</th>\n",
              "    </tr>\n",
              "  </thead>\n",
              "  <tbody>\n",
              "    <tr>\n",
              "      <th>0</th>\n",
              "      <td>aardvark</td>\n",
              "      <td>has-part</td>\n",
              "      <td>brain</td>\n",
              "    </tr>\n",
              "    <tr>\n",
              "      <th>1</th>\n",
              "      <td>aardvark</td>\n",
              "      <td>has-part</td>\n",
              "      <td>breast</td>\n",
              "    </tr>\n",
              "    <tr>\n",
              "      <th>2</th>\n",
              "      <td>aardvark</td>\n",
              "      <td>has-part</td>\n",
              "      <td>cell membrane</td>\n",
              "    </tr>\n",
              "    <tr>\n",
              "      <th>3</th>\n",
              "      <td>aardvark</td>\n",
              "      <td>has-part</td>\n",
              "      <td>cell</td>\n",
              "    </tr>\n",
              "    <tr>\n",
              "      <th>4</th>\n",
              "      <td>aardvark</td>\n",
              "      <td>has-part</td>\n",
              "      <td>chest cavity</td>\n",
              "    </tr>\n",
              "  </tbody>\n",
              "</table>\n",
              "</div>"
            ],
            "text/plain": [
              "       Arg1      Pred           Arg2\n",
              "0  aardvark  has-part          brain\n",
              "1  aardvark  has-part         breast\n",
              "2  aardvark  has-part  cell membrane\n",
              "3  aardvark  has-part           cell\n",
              "4  aardvark  has-part   chest cavity"
            ]
          },
          "execution_count": 8,
          "metadata": {},
          "output_type": "execute_result"
        }
      ]
    },
    {
      "cell_type": "code",
      "metadata": {
        "colab": {
          "base_uri": "https://localhost:8080/",
          "height": 205
        },
        "id": "_iQ5klqGtXPk",
        "outputId": "64f76ad8-2e1a-42bc-ecf0-d6a23712b3a0"
      },
      "source": [
        "from sklearn.model_selection import GroupKFold\n",
        "fold = 0\n",
        "gkf  = GroupKFold(n_splits = 15)\n",
        "df['fold'] = -1\n",
        "for fold, (train_idx, val_idx) in enumerate(gkf.split(df, groups = df.Arg1.tolist())):\n",
        "    df.loc[val_idx, 'fold'] = fold\n",
        "df.head()"
      ],
      "execution_count": null,
      "outputs": [
        {
          "data": {
            "text/html": [
              "<div>\n",
              "<style scoped>\n",
              "    .dataframe tbody tr th:only-of-type {\n",
              "        vertical-align: middle;\n",
              "    }\n",
              "\n",
              "    .dataframe tbody tr th {\n",
              "        vertical-align: top;\n",
              "    }\n",
              "\n",
              "    .dataframe thead th {\n",
              "        text-align: right;\n",
              "    }\n",
              "</style>\n",
              "<table border=\"1\" class=\"dataframe\">\n",
              "  <thead>\n",
              "    <tr style=\"text-align: right;\">\n",
              "      <th></th>\n",
              "      <th>Arg1</th>\n",
              "      <th>Pred</th>\n",
              "      <th>Arg2</th>\n",
              "      <th>fold</th>\n",
              "    </tr>\n",
              "  </thead>\n",
              "  <tbody>\n",
              "    <tr>\n",
              "      <th>0</th>\n",
              "      <td>aardvark</td>\n",
              "      <td>has-part</td>\n",
              "      <td>brain</td>\n",
              "      <td>8</td>\n",
              "    </tr>\n",
              "    <tr>\n",
              "      <th>1</th>\n",
              "      <td>aardvark</td>\n",
              "      <td>has-part</td>\n",
              "      <td>breast</td>\n",
              "      <td>8</td>\n",
              "    </tr>\n",
              "    <tr>\n",
              "      <th>2</th>\n",
              "      <td>aardvark</td>\n",
              "      <td>has-part</td>\n",
              "      <td>cell membrane</td>\n",
              "      <td>8</td>\n",
              "    </tr>\n",
              "    <tr>\n",
              "      <th>3</th>\n",
              "      <td>aardvark</td>\n",
              "      <td>has-part</td>\n",
              "      <td>cell</td>\n",
              "      <td>8</td>\n",
              "    </tr>\n",
              "    <tr>\n",
              "      <th>4</th>\n",
              "      <td>aardvark</td>\n",
              "      <td>has-part</td>\n",
              "      <td>chest cavity</td>\n",
              "      <td>8</td>\n",
              "    </tr>\n",
              "  </tbody>\n",
              "</table>\n",
              "</div>"
            ],
            "text/plain": [
              "       Arg1      Pred           Arg2  fold\n",
              "0  aardvark  has-part          brain     8\n",
              "1  aardvark  has-part         breast     8\n",
              "2  aardvark  has-part  cell membrane     8\n",
              "3  aardvark  has-part           cell     8\n",
              "4  aardvark  has-part   chest cavity     8"
            ]
          },
          "execution_count": 9,
          "metadata": {},
          "output_type": "execute_result"
        }
      ]
    },
    {
      "cell_type": "code",
      "metadata": {
        "colab": {
          "base_uri": "https://localhost:8080/"
        },
        "id": "ESpe-6d2qCvK",
        "outputId": "670ed5e0-c532-4441-9a7a-b108166a248c"
      },
      "source": [
        "fold = 0\n",
        "kb_train = \"\"\n",
        "kb_test = \"\"\n",
        "train_count = 0\n",
        "test_count = 0\n",
        "from tqdm import tqdm\n",
        "for i in tqdm(range(len(df))):\n",
        "    row = df.loc[i]\n",
        "\n",
        "    Arg1 = str(row.Arg1).replace(\" \", \"/\")\n",
        "    Pred = str(row.Pred).replace(\" \", \"/\")\n",
        "    Arg2 = str(row.Arg2).replace(\" \", \"/\")\n",
        "\n",
        "    if row.fold == fold:\n",
        "      kb_test = kb_test + Arg1 + \"\\t\" + Pred + \"\\t\" + Arg2 + '\\n'\n",
        "      train_count += 1\n",
        "    else:\n",
        "      kb_train = kb_train + Arg1 + \"\\t\" + Pred + \"\\t\" + Arg2 + '\\n'\n",
        "      test_count += 1\n",
        "print(train_count, test_count)"
      ],
      "execution_count": null,
      "outputs": [
        {
          "name": "stderr",
          "output_type": "stream",
          "text": [
            "100%|██████████| 282594/282594 [04:56<00:00, 954.66it/s]"
          ]
        },
        {
          "name": "stdout",
          "output_type": "stream",
          "text": [
            "18840 263754\n"
          ]
        },
        {
          "name": "stderr",
          "output_type": "stream",
          "text": [
            "\n"
          ]
        }
      ]
    },
    {
      "cell_type": "code",
      "metadata": {
        "id": "8YzlnXbz1SGM"
      },
      "source": [
        "import os, shutil\n",
        "os.mkdir('/content/kge/data/aristo/')"
      ],
      "execution_count": null,
      "outputs": []
    },
    {
      "cell_type": "code",
      "metadata": {
        "id": "dUggB7Soz4xN"
      },
      "source": [
        "#Train.txt and Test.txt\n",
        "with open('/content/drive/MyDrive/Libkge/data/aristo/train.txt', 'w') as f:\n",
        "  f.writelines(kb_train)\n",
        "\n",
        "with open('/content/drive/MyDrive/Libkge/data/aristo/test.txt', 'w') as f:\n",
        "  f.writelines(kb_test)\n",
        "\n",
        "with open('/content/drive/MyDrive/Libkge/data/aristo/valid.txt', 'w') as f:\n",
        "  f.writelines(kb_test)"
      ],
      "execution_count": null,
      "outputs": []
    },
    {
      "cell_type": "code",
      "metadata": {
        "id": "5-IY8JanvdnZ"
      },
      "source": [
        "#Entities.txt\n",
        "def add_newline(p):\n",
        "  return p + '\\n'\n",
        "\n",
        "entities_df = pd.read_csv('/content/aristo-tuple-kb-v4-mar2017/entities.tsv', sep='\\t')\n",
        "entities = entities_df['Word'].apply(lambda x: str(x).replace(\" \", \"/\")).tolist()\n",
        "entities = list(map(add_newline, entities))\n",
        "with open('/content/kge/data/aristo/entities.txt', 'w') as f:\n",
        "  f.writelines(entities)\n",
        "print(entities_df['Word'][0])"
      ],
      "execution_count": null,
      "outputs": []
    },
    {
      "cell_type": "code",
      "metadata": {
        "id": "RfK68iOzwcKe"
      },
      "source": [
        "#Relations.txt\n",
        "relations_df = pd.read_csv('/content/aristo-tuple-kb-v4-mar2017/relations.tsv', sep='\\t')\n",
        "relations = relations_df['Relation'].apply(lambda x: str(x).replace(\" \", \"/\")).tolist()\n",
        "relations = list(map(add_newline, relations))\n",
        "with open('/content/kge/data/aristo/relations.txt', 'w') as f:\n",
        "  f.writelines(relations)\n",
        "print(relations_df['Relation'][0])\n",
        "relations_df.head()"
      ],
      "execution_count": null,
      "outputs": []
    },
    {
      "cell_type": "code",
      "metadata": {
        "id": "YUm6IP-X1n2k"
      },
      "source": [
        "shutil.copy('/content/kge/examples/toy-complex-search-grid.yaml', '/content/kge/examples/aristo.yaml')"
      ],
      "execution_count": null,
      "outputs": []
    },
    {
      "cell_type": "code",
      "metadata": {
        "id": "kR00kjWp5Qba"
      },
      "source": [
        "shutil.make_archive('/content/kge/data/aristo', 'zip', '/content/kge/data/aristo')"
      ],
      "execution_count": null,
      "outputs": []
    },
    {
      "cell_type": "code",
      "metadata": {
        "id": "M9xw7sou5Y6P"
      },
      "source": [
        "from google.colab import files\n",
        "files.download(\"/content/kge/data/aristo.zip\")"
      ],
      "execution_count": null,
      "outputs": []
    },
    {
      "cell_type": "markdown",
      "metadata": {
        "id": "-Bw2lEECo_zc"
      },
      "source": [
        "# **Embeddings using LibKge**"
      ]
    },
    {
      "cell_type": "code",
      "metadata": {
        "colab": {
          "base_uri": "https://localhost:8080/"
        },
        "id": "W4tjNk6KirGJ",
        "outputId": "5b596f34-2c09-407f-ecf0-540f0079c26c"
      },
      "source": [
        "!git clone https://github.com/uma-pi1/kge.git"
      ],
      "execution_count": null,
      "outputs": [
        {
          "output_type": "stream",
          "name": "stdout",
          "text": [
            "Cloning into 'kge'...\n",
            "remote: Enumerating objects: 7561, done.\u001b[K\n",
            "remote: Counting objects: 100% (96/96), done.\u001b[K\n",
            "remote: Compressing objects: 100% (67/67), done.\u001b[K\n",
            "remote: Total 7561 (delta 56), reused 57 (delta 29), pack-reused 7465\u001b[K\n",
            "Receiving objects: 100% (7561/7561), 1.82 MiB | 578.00 KiB/s, done.\n",
            "Resolving deltas: 100% (5709/5709), done.\n"
          ]
        }
      ]
    },
    {
      "cell_type": "code",
      "metadata": {
        "colab": {
          "base_uri": "https://localhost:8080/"
        },
        "id": "XCT3a63ciyVo",
        "outputId": "44769af1-911f-4d8c-a19c-efb25d72ec38"
      },
      "source": [
        "ls"
      ],
      "execution_count": null,
      "outputs": [
        {
          "output_type": "stream",
          "name": "stdout",
          "text": [
            "\u001b[0m\u001b[01;34mkge\u001b[0m/  \u001b[01;34msample_data\u001b[0m/\n"
          ]
        }
      ]
    },
    {
      "cell_type": "code",
      "metadata": {
        "id": "u1XkkDhX43XX",
        "colab": {
          "base_uri": "https://localhost:8080/"
        },
        "outputId": "9fb0686a-557d-42ff-d2df-3a2dc954b89b"
      },
      "source": [
        "!cp -r /content/drive/MyDrive/kge /content/"
      ],
      "execution_count": null,
      "outputs": [
        {
          "output_type": "stream",
          "name": "stdout",
          "text": [
            "cp: cannot stat '/content/drive/MyDrive/kge': No such file or directory\n"
          ]
        }
      ]
    },
    {
      "cell_type": "code",
      "metadata": {
        "colab": {
          "base_uri": "https://localhost:8080/"
        },
        "id": "YgabycwaivTz",
        "outputId": "9df2c261-c2c5-491c-b249-0f4e88ac6402"
      },
      "source": [
        "%cd /content/drive/MyDrive/kge"
      ],
      "execution_count": null,
      "outputs": [
        {
          "output_type": "stream",
          "name": "stdout",
          "text": [
            "/content/drive/MyDrive/kge\n"
          ]
        }
      ]
    },
    {
      "cell_type": "code",
      "metadata": {
        "id": "UTOLtZHjiz5U"
      },
      "source": [
        "!pip install -e . "
      ],
      "execution_count": null,
      "outputs": []
    },
    {
      "cell_type": "code",
      "metadata": {
        "id": "aGPwJa31YZ8G"
      },
      "source": [
        "# %%shell\n",
        "# cd /content/kge/data\n",
        "# sh download_all.sh\n",
        "# cd .."
      ],
      "execution_count": null,
      "outputs": []
    },
    {
      "cell_type": "code",
      "metadata": {
        "id": "mk5CTRwsbHeV"
      },
      "source": [
        "# !tar xvf toy.tar.gz"
      ],
      "execution_count": null,
      "outputs": []
    },
    {
      "cell_type": "code",
      "metadata": {
        "colab": {
          "base_uri": "https://localhost:8080/"
        },
        "id": "T9Fae_z6wfDj",
        "outputId": "d50cac0f-90c6-476c-ddee-37f54758980f"
      },
      "source": [
        "%cd /content/drive/MyDrive/kge/data"
      ],
      "execution_count": null,
      "outputs": [
        {
          "output_type": "stream",
          "name": "stdout",
          "text": [
            "/content/drive/MyDrive/kge/data\n"
          ]
        }
      ]
    },
    {
      "cell_type": "code",
      "metadata": {
        "id": "1uin8yjvJqzW"
      },
      "source": [
        "# !rm -rf /content/kge/data/aristo"
      ],
      "execution_count": null,
      "outputs": []
    },
    {
      "cell_type": "code",
      "metadata": {
        "id": "6Y2m8xABG7tG"
      },
      "source": [
        "# !cp -r /content/drive/MyDrive/Libkge/data/aristo /content/kge/data/"
      ],
      "execution_count": null,
      "outputs": []
    },
    {
      "cell_type": "code",
      "metadata": {
        "id": "6clrixnPJ4ga"
      },
      "source": [
        "# !cp -r /content/EmbedKGQA/data/aristo /content/kge/data/"
      ],
      "execution_count": null,
      "outputs": []
    },
    {
      "cell_type": "code",
      "metadata": {
        "id": "rSq15E9vJCCc"
      },
      "source": [
        "!cp /content/kge/examples/toy-complex-train.yaml /content/kge/examples/SciQ.yaml"
      ],
      "execution_count": null,
      "outputs": []
    },
    {
      "cell_type": "code",
      "metadata": {
        "colab": {
          "base_uri": "https://localhost:8080/"
        },
        "id": "WqXLZucwK6CN",
        "outputId": "0939b7cf-a31d-4a49-e10e-7221cc00c447"
      },
      "source": [
        "%cd /content/kge/data"
      ],
      "execution_count": null,
      "outputs": [
        {
          "output_type": "stream",
          "name": "stdout",
          "text": [
            "/content/kge/data\n"
          ]
        }
      ]
    },
    {
      "cell_type": "code",
      "metadata": {
        "id": "9tTiHj8b3z8d"
      },
      "source": [
        "!python preprocess/preprocess_default.py SciQ"
      ],
      "execution_count": null,
      "outputs": []
    },
    {
      "cell_type": "code",
      "metadata": {
        "id": "AjQmp8QkMFH2"
      },
      "source": [
        "# !cp -r /content/kge/data/aristo /content/EmbedKGQA/data/"
      ],
      "execution_count": null,
      "outputs": []
    },
    {
      "cell_type": "code",
      "metadata": {
        "id": "KZU4WErmJObJ"
      },
      "source": [
        "# !cp /content/kge/examples/aristo.yaml /content/drive/MyDrive/Libkge/data/"
      ],
      "execution_count": null,
      "outputs": []
    },
    {
      "cell_type": "code",
      "metadata": {
        "id": "z1yrlfyjLEGk"
      },
      "source": [
        "!cp -r /content/drive/MyDrive/kge/data/SciQ /content/kge/data"
      ],
      "execution_count": null,
      "outputs": []
    },
    {
      "cell_type": "code",
      "metadata": {
        "id": "cWef1IP6lXO8"
      },
      "source": [
        "!kge start /content/drive/MyDrive/kge/examples/SciQ.yaml --job.device cuda:0"
      ],
      "execution_count": null,
      "outputs": []
    },
    {
      "cell_type": "code",
      "metadata": {
        "id": "ojTY9Gz9E5vg",
        "colab": {
          "base_uri": "https://localhost:8080/"
        },
        "outputId": "4baeae5a-d0b9-4ba0-f1ab-e2b18c02a9bb"
      },
      "source": [
        "!cp -r /content/kge/local/20211014-142756-SciQ /content/drive/MyDrive/Libkge/experiments"
      ],
      "execution_count": null,
      "outputs": [
        {
          "output_type": "stream",
          "name": "stdout",
          "text": [
            "cp: cannot stat '/content/kge/local/20211014-142756-SciQ': No such file or directory\n"
          ]
        }
      ]
    },
    {
      "cell_type": "code",
      "metadata": {
        "id": "Iop7aKVzLZ0W"
      },
      "source": [
        "!cp /content/drive/MyDrive/kge/examples/SciQ.yaml /content/kge/examples"
      ],
      "execution_count": null,
      "outputs": []
    },
    {
      "cell_type": "code",
      "metadata": {
        "id": "nbIjYIpzuSl-"
      },
      "source": [
        "!kge valid /content/kge/examples/aristo.yaml "
      ],
      "execution_count": null,
      "outputs": []
    },
    {
      "cell_type": "code",
      "metadata": {
        "id": "bTiPCkzGBkoX"
      },
      "source": [
        "# cd /content/drive/MyDrive/kge/"
      ],
      "execution_count": null,
      "outputs": []
    },
    {
      "cell_type": "code",
      "metadata": {
        "id": "jZx1IxOrBqyV"
      },
      "source": [
        "# ls"
      ],
      "execution_count": null,
      "outputs": []
    },
    {
      "cell_type": "code",
      "metadata": {
        "id": "yKDh3u4RKtzV"
      },
      "source": [
        "# cd /content/kge"
      ],
      "execution_count": null,
      "outputs": []
    },
    {
      "cell_type": "code",
      "metadata": {
        "id": "Y0UK6uP9ZOeU"
      },
      "source": [
        "# !kge dump checkpoint /content/kge/examples/checkpoint_best.pt"
      ],
      "execution_count": null,
      "outputs": []
    },
    {
      "cell_type": "code",
      "metadata": {
        "id": "w3Vg9ncmKuN2",
        "colab": {
          "base_uri": "https://localhost:8080/"
        },
        "outputId": "007c9082-e1e3-4bfb-ea0d-5328b33f44f4"
      },
      "source": [
        "%cd /content/drive/MyDrive/kge"
      ],
      "execution_count": null,
      "outputs": [
        {
          "output_type": "stream",
          "name": "stdout",
          "text": [
            "/content/drive/MyDrive/kge\n"
          ]
        }
      ]
    },
    {
      "cell_type": "code",
      "metadata": {
        "id": "2khMRTQ6On5r",
        "colab": {
          "base_uri": "https://localhost:8080/"
        },
        "outputId": "29030e99-771f-4b98-bf64-4f5ec088a6e4"
      },
      "source": [
        "ls"
      ],
      "execution_count": null,
      "outputs": [
        {
          "output_type": "stream",
          "name": "stdout",
          "text": [
            "CHANGELOG.md     \u001b[0m\u001b[01;34mdocs\u001b[0m/       \u001b[01;34mkge\u001b[0m/              \u001b[01;34mlocal\u001b[0m/     setup.py\n",
            "CONTRIBUTING.md  \u001b[01;34mEmbedKGQA\u001b[0m/  \u001b[01;34mlibkge.egg-info\u001b[0m/  README.md  \u001b[01;34mtests\u001b[0m/\n",
            "\u001b[01;34mdata\u001b[0m/            \u001b[01;34mexamples\u001b[0m/   LICENSE           setup.cfg\n"
          ]
        }
      ]
    },
    {
      "cell_type": "code",
      "metadata": {
        "colab": {
          "base_uri": "https://localhost:8080/"
        },
        "id": "ZF1kYpOS-Ia3",
        "outputId": "d6382d83-a870-43b2-b6f0-c96b8b343664"
      },
      "source": [
        "import torch\n",
        "from kge.model import KgeModel\n",
        "from kge.util.io import load_checkpoint\n",
        "\n",
        "# download link for this checkpoint given under results above\n",
        "checkpoint = load_checkpoint('/content/drive/MyDrive/kge/examples/checkpoint_best.pt')\n",
        "model = KgeModel.create_from(checkpoint)\n",
        "\n",
        "s = torch.Tensor([0,]).long()             # subject indexes\n",
        "p = torch.Tensor([0,]).long()             # relation indexes\n",
        "scores = model.score_sp(s, p)                # scores of all objects for (s,p,?)\n",
        "o = torch.argmax(scores, dim=-1)             # index of highest-scoring objects\n",
        "\n",
        "print(o)\n",
        "print(model.dataset.entity_strings(s))       # convert indexes to mentions\n",
        "print(model.dataset.relation_strings(p))\n",
        "print(model.dataset.entity_strings(o))\n",
        "\n",
        "# Output (slightly revised for readability):\n",
        "#\n",
        "# tensor([8399, 8855])\n",
        "# ['Dominican Republic'        'Mighty Morphin Power Rangers']\n",
        "# ['has form of government'    'is tv show with actor']\n",
        "# ['Republic'                  'Johnny Yong Bosch']\n"
      ],
      "execution_count": null,
      "outputs": [
        {
          "output_type": "stream",
          "name": "stdout",
          "text": [
            "Loading configuration of dataset SciQ from /content/drive/MyDrive/kge/data/SciQ ...\n",
            "tensor([1])\n",
            "Loaded 15 keys from map entity_strings\n",
            "['sperm']\n",
            "Loaded 9 keys from map relation_strings\n",
            "['forming']\n",
            "['diploid']\n"
          ]
        }
      ]
    },
    {
      "cell_type": "code",
      "metadata": {
        "id": "pz4Hlv2_DIJ8"
      },
      "source": [
        "# !cp -r /content/kge/local/experiments/20210928-234059-aristo /content/drive/MyDrive/Libkge/experiments/"
      ],
      "execution_count": null,
      "outputs": []
    },
    {
      "cell_type": "code",
      "metadata": {
        "id": "r9BeDq6U3rYQ"
      },
      "source": [
        "# !kge resume /content/kge/examples/aristo.yaml --job.device cuda:0"
      ],
      "execution_count": null,
      "outputs": []
    },
    {
      "cell_type": "markdown",
      "metadata": {
        "id": "k9JSzJTis2fN"
      },
      "source": [
        "# **KGQA**"
      ]
    },
    {
      "cell_type": "code",
      "metadata": {
        "id": "rHluyIJrs6-R"
      },
      "source": [
        "# !pip install torch==1.6.0 torchvision==0.7.0"
      ],
      "execution_count": null,
      "outputs": []
    },
    {
      "cell_type": "code",
      "metadata": {
        "colab": {
          "base_uri": "https://localhost:8080/",
          "height": 884
        },
        "id": "_Slat9F5s7nw",
        "outputId": "94c15118-1a97-4f8d-ca80-a096fe46923b"
      },
      "source": [
        "!pip install transformers\n",
        "!pip install Path\n",
        "!pip install sentencepiece"
      ],
      "execution_count": null,
      "outputs": [
        {
          "output_type": "stream",
          "name": "stdout",
          "text": [
            "Collecting transformers\n",
            "  Downloading transformers-4.11.3-py3-none-any.whl (2.9 MB)\n",
            "\u001b[K     |████████████████████████████████| 2.9 MB 2.7 MB/s \n",
            "\u001b[?25hCollecting pyyaml>=5.1\n",
            "  Downloading PyYAML-6.0-cp37-cp37m-manylinux_2_5_x86_64.manylinux1_x86_64.manylinux_2_12_x86_64.manylinux2010_x86_64.whl (596 kB)\n",
            "\u001b[K     |████████████████████████████████| 596 kB 62.5 MB/s \n",
            "\u001b[?25hRequirement already satisfied: requests in /usr/local/lib/python3.7/dist-packages (from transformers) (2.23.0)\n",
            "Collecting tokenizers<0.11,>=0.10.1\n",
            "  Downloading tokenizers-0.10.3-cp37-cp37m-manylinux_2_5_x86_64.manylinux1_x86_64.manylinux_2_12_x86_64.manylinux2010_x86_64.whl (3.3 MB)\n",
            "\u001b[K     |████████████████████████████████| 3.3 MB 35.2 MB/s \n",
            "\u001b[?25hRequirement already satisfied: tqdm>=4.27 in /usr/local/lib/python3.7/dist-packages (from transformers) (4.62.3)\n",
            "Requirement already satisfied: packaging>=20.0 in /usr/local/lib/python3.7/dist-packages (from transformers) (21.0)\n",
            "Requirement already satisfied: filelock in /usr/local/lib/python3.7/dist-packages (from transformers) (3.3.0)\n",
            "Requirement already satisfied: regex!=2019.12.17 in /usr/local/lib/python3.7/dist-packages (from transformers) (2019.12.20)\n",
            "Requirement already satisfied: numpy>=1.17 in /usr/local/lib/python3.7/dist-packages (from transformers) (1.19.5)\n",
            "Collecting sacremoses\n",
            "  Downloading sacremoses-0.0.46-py3-none-any.whl (895 kB)\n",
            "\u001b[K     |████████████████████████████████| 895 kB 56.2 MB/s \n",
            "\u001b[?25hRequirement already satisfied: importlib-metadata in /usr/local/lib/python3.7/dist-packages (from transformers) (4.8.1)\n",
            "Collecting huggingface-hub>=0.0.17\n",
            "  Downloading huggingface_hub-0.0.19-py3-none-any.whl (56 kB)\n",
            "\u001b[K     |████████████████████████████████| 56 kB 4.8 MB/s \n",
            "\u001b[?25hRequirement already satisfied: typing-extensions in /usr/local/lib/python3.7/dist-packages (from huggingface-hub>=0.0.17->transformers) (3.7.4.3)\n",
            "Requirement already satisfied: pyparsing>=2.0.2 in /usr/local/lib/python3.7/dist-packages (from packaging>=20.0->transformers) (2.4.7)\n",
            "Requirement already satisfied: zipp>=0.5 in /usr/local/lib/python3.7/dist-packages (from importlib-metadata->transformers) (3.6.0)\n",
            "Requirement already satisfied: idna<3,>=2.5 in /usr/local/lib/python3.7/dist-packages (from requests->transformers) (2.10)\n",
            "Requirement already satisfied: urllib3!=1.25.0,!=1.25.1,<1.26,>=1.21.1 in /usr/local/lib/python3.7/dist-packages (from requests->transformers) (1.24.3)\n",
            "Requirement already satisfied: certifi>=2017.4.17 in /usr/local/lib/python3.7/dist-packages (from requests->transformers) (2021.5.30)\n",
            "Requirement already satisfied: chardet<4,>=3.0.2 in /usr/local/lib/python3.7/dist-packages (from requests->transformers) (3.0.4)\n",
            "Requirement already satisfied: joblib in /usr/local/lib/python3.7/dist-packages (from sacremoses->transformers) (1.0.1)\n",
            "Requirement already satisfied: click in /usr/local/lib/python3.7/dist-packages (from sacremoses->transformers) (7.1.2)\n",
            "Requirement already satisfied: six in /usr/local/lib/python3.7/dist-packages (from sacremoses->transformers) (1.15.0)\n",
            "Installing collected packages: pyyaml, tokenizers, sacremoses, huggingface-hub, transformers\n",
            "  Attempting uninstall: pyyaml\n",
            "    Found existing installation: PyYAML 3.13\n",
            "    Uninstalling PyYAML-3.13:\n",
            "      Successfully uninstalled PyYAML-3.13\n",
            "Successfully installed huggingface-hub-0.0.19 pyyaml-6.0 sacremoses-0.0.46 tokenizers-0.10.3 transformers-4.11.3\n"
          ]
        },
        {
          "output_type": "display_data",
          "data": {
            "application/vnd.colab-display-data+json": {
              "pip_warning": {
                "packages": [
                  "yaml"
                ]
              }
            }
          },
          "metadata": {}
        },
        {
          "output_type": "stream",
          "name": "stdout",
          "text": [
            "Requirement already satisfied: Path in /usr/local/lib/python3.7/dist-packages (16.2.0)\n",
            "Collecting sentencepiece\n",
            "  Downloading sentencepiece-0.1.96-cp37-cp37m-manylinux_2_17_x86_64.manylinux2014_x86_64.whl (1.2 MB)\n",
            "\u001b[K     |████████████████████████████████| 1.2 MB 2.0 MB/s \n",
            "\u001b[?25hInstalling collected packages: sentencepiece\n",
            "Successfully installed sentencepiece-0.1.96\n"
          ]
        }
      ]
    },
    {
      "cell_type": "code",
      "metadata": {
        "colab": {
          "base_uri": "https://localhost:8080/"
        },
        "id": "RdXIWQ7Ls9nW",
        "outputId": "765f7d19-7a18-4f6b-9a1e-1b7b3d14ac28"
      },
      "source": [
        "%cd /content"
      ],
      "execution_count": null,
      "outputs": [
        {
          "output_type": "stream",
          "name": "stdout",
          "text": [
            "/content\n"
          ]
        }
      ]
    },
    {
      "cell_type": "code",
      "metadata": {
        "colab": {
          "base_uri": "https://localhost:8080/"
        },
        "id": "ct6GWlgDuWC6",
        "outputId": "f25cd00c-678f-4fe1-f4ff-fca7b0648653"
      },
      "source": [
        "!git clone https://github.com/malllabiisc/EmbedKGQA.git"
      ],
      "execution_count": null,
      "outputs": [
        {
          "output_type": "stream",
          "name": "stdout",
          "text": [
            "Cloning into 'EmbedKGQA'...\n",
            "remote: Enumerating objects: 254, done.\u001b[K\n",
            "remote: Counting objects: 100% (201/201), done.\u001b[K\n",
            "remote: Compressing objects: 100% (156/156), done.\u001b[K\n",
            "remote: Total 254 (delta 67), reused 145 (delta 43), pack-reused 53\u001b[K\n",
            "Receiving objects: 100% (254/254), 67.86 MiB | 26.41 MiB/s, done.\n",
            "Resolving deltas: 100% (87/87), done.\n"
          ]
        }
      ]
    },
    {
      "cell_type": "code",
      "metadata": {
        "id": "3cnbqetmz1EE"
      },
      "source": [
        "!cp -r /content/drive/MyDrive/EmbedKGQA/data /content/EmbedKGQA"
      ],
      "execution_count": null,
      "outputs": []
    },
    {
      "cell_type": "code",
      "metadata": {
        "id": "-aLRmzpCz-uf"
      },
      "source": [
        "!cp -r /content/drive/MyDrive/EmbedKGQA/pretrained_models /content/EmbedKGQA "
      ],
      "execution_count": null,
      "outputs": []
    },
    {
      "cell_type": "code",
      "metadata": {
        "id": "_vqRrtW769Mz"
      },
      "source": [
        "import os\n",
        "os.mkdir('/content/EmbedKGQA/pretrained_models')\n",
        "os.mkdir('/content/EmbedKGQA/pretrained_models/embeddings')\n",
        "os.mkdir('/content/EmbedKGQA/pretrained_models/embeddings/SciQ')\n",
        "\n",
        "os.mkdir('/content/EmbedKGQA/data')\n",
        "os.mkdir('/content/EmbedKGQA/data/QA_data')\n"
      ],
      "execution_count": null,
      "outputs": []
    },
    {
      "cell_type": "code",
      "metadata": {
        "id": "iIbDqdMFQ7po"
      },
      "source": [
        "!cp -r /content/drive/MyDrive/kge/data/SciQ /content/EmbedKGQA/data/"
      ],
      "execution_count": null,
      "outputs": []
    },
    {
      "cell_type": "code",
      "metadata": {
        "id": "CtPoC7GARNOx"
      },
      "source": [
        "!cp /content/drive/MyDrive/kge/data/SciQ/entity_ids.del /content/EmbedKGQA/pretrained_models/embeddings/SciQ/"
      ],
      "execution_count": null,
      "outputs": []
    },
    {
      "cell_type": "code",
      "metadata": {
        "id": "GN9M9YUZ7vSh"
      },
      "source": [
        "# !cp -r /content/drive/MyDrive/Libkge/data/aristo /content/EmbedKGQA/data"
      ],
      "execution_count": null,
      "outputs": []
    },
    {
      "cell_type": "code",
      "metadata": {
        "id": "tShLXoDm744f"
      },
      "source": [
        "!cp /content/drive/MyDrive/kge/examples/checkpoint_best.pt /content/EmbedKGQA/pretrained_models/embeddings/SciQ"
      ],
      "execution_count": null,
      "outputs": []
    },
    {
      "cell_type": "code",
      "metadata": {
        "id": "mFbBBIga8ZvW"
      },
      "source": [
        "# !cp /content/EmbedKGQA/data/aristo/entity_ids.del /content/EmbedKGQA/pretrained_models/embeddings/aristo/"
      ],
      "execution_count": null,
      "outputs": []
    },
    {
      "cell_type": "code",
      "metadata": {
        "id": "W00ZNi01uWli"
      },
      "source": [
        "# !cp -r /content/drive/MyDrive/kge /content/"
      ],
      "execution_count": null,
      "outputs": []
    },
    {
      "cell_type": "code",
      "metadata": {
        "colab": {
          "base_uri": "https://localhost:8080/"
        },
        "id": "sPAleqNfuift",
        "outputId": "439db699-89a0-40e5-808a-e53af356e1d3"
      },
      "source": [
        "%cd /content/EmbedKGQA"
      ],
      "execution_count": null,
      "outputs": [
        {
          "name": "stdout",
          "output_type": "stream",
          "text": [
            "/content/EmbedKGQA\n"
          ]
        }
      ]
    },
    {
      "cell_type": "code",
      "metadata": {
        "id": "ET1oCzftuplP"
      },
      "source": [
        "# !gdown --id 1uWaavrpKKllVSQ73TTuLWPc4aqVvrkpx && unzip data.zip"
      ],
      "execution_count": null,
      "outputs": []
    },
    {
      "cell_type": "code",
      "metadata": {
        "id": "eIy8xI7xurX3"
      },
      "source": [
        "# !gdown --id 1Ly_3RR1CsYDafdvdfTG35NPIG-FLH-tz && unzip pretrained_models.zip"
      ],
      "execution_count": null,
      "outputs": []
    },
    {
      "cell_type": "code",
      "metadata": {
        "id": "suZJ4Rmmus_f"
      },
      "source": [
        "# !cp -r /content/EmbedKGQA/EmbedKGQA/data /content/EmbedKGQA"
      ],
      "execution_count": null,
      "outputs": []
    },
    {
      "cell_type": "code",
      "metadata": {
        "id": "l84cT2iUuxdP"
      },
      "source": [
        "# !cp -r /content/EmbedKGQA/EmbedKGQA/pretrained_models /content/EmbedKGQA"
      ],
      "execution_count": null,
      "outputs": []
    },
    {
      "cell_type": "code",
      "metadata": {
        "id": "HMV-sr2UxyN_"
      },
      "source": [
        "# import shutil\n",
        "# shutil.copytree('/content/kge/data/aristo', '/content/EmbedKGQA/data/aristo')"
      ],
      "execution_count": null,
      "outputs": []
    },
    {
      "cell_type": "code",
      "metadata": {
        "id": "8iwlcE9V1aMA"
      },
      "source": [
        "# !cp -r /content/kge/local/experiments/20210928-234059-aristo/ /content/EmbedKGQA/pretrained_models/embeddings/aristo/"
      ],
      "execution_count": null,
      "outputs": []
    },
    {
      "cell_type": "code",
      "metadata": {
        "id": "MTxmdeyRx8KV"
      },
      "source": [
        "# !cp /content/kge/local/experiments/20210928-234059-aristo/checkpoint_best.pt /content/EmbedKGQA/pretrained_models/embeddings/aristo/"
      ],
      "execution_count": null,
      "outputs": []
    },
    {
      "cell_type": "code",
      "metadata": {
        "id": "AQeRbvGp1uH0"
      },
      "source": [
        "# !cp /content/EmbedKGQA/data/aristo/entity_ids.del /content/EmbedKGQA/pretrained_models/embeddings/aristo/"
      ],
      "execution_count": null,
      "outputs": []
    },
    {
      "cell_type": "code",
      "metadata": {
        "id": "j8IIY_UZntw2"
      },
      "source": [
        "# !rm -rf /content/EmbedKGQA"
      ],
      "execution_count": null,
      "outputs": []
    },
    {
      "cell_type": "code",
      "metadata": {
        "colab": {
          "base_uri": "https://localhost:8080/"
        },
        "id": "zw93nRhxn8aQ",
        "outputId": "b3e58cd5-c86f-4e7b-fa8c-8f886749c90f"
      },
      "source": [
        "!cp -r /content/drive/MyDrive/EmbedKGQA /content"
      ],
      "execution_count": null,
      "outputs": [
        {
          "name": "stdout",
          "output_type": "stream",
          "text": [
            "shell-init: error retrieving current directory: getcwd: cannot access parent directories: No such file or directory\n"
          ]
        }
      ]
    },
    {
      "cell_type": "code",
      "metadata": {
        "colab": {
          "base_uri": "https://localhost:8080/"
        },
        "id": "pm3bdcopxjA3",
        "outputId": "706f6c46-9f69-4380-e02a-af67d820c507"
      },
      "source": [
        "%cd /content/EmbedKGQA/KGQA/RoBERTa "
      ],
      "execution_count": null,
      "outputs": [
        {
          "output_type": "stream",
          "name": "stdout",
          "text": [
            "/content/EmbedKGQA/KGQA/RoBERTa\n"
          ]
        }
      ]
    },
    {
      "cell_type": "code",
      "metadata": {
        "id": "u-mjSlfF__PX"
      },
      "source": [
        "# !cp -r /content/EmbedKGQA /content/drive/MyDrive"
      ],
      "execution_count": null,
      "outputs": []
    },
    {
      "cell_type": "code",
      "metadata": {
        "id": "zl1phPgB_uZR"
      },
      "source": [
        "import os\n",
        "os.mkdir('/content/EmbedKGQA/output/')"
      ],
      "execution_count": null,
      "outputs": []
    },
    {
      "cell_type": "code",
      "metadata": {
        "id": "_ag-rIXANyXZ"
      },
      "source": [
        "!cp /content/drive/MyDrive/EmbedKGQA/KGQA/RoBERTa/main.py /content/EmbedKGQA/KGQA/RoBERTa"
      ],
      "execution_count": null,
      "outputs": []
    },
    {
      "cell_type": "code",
      "metadata": {
        "id": "s0p8U_OYutRi"
      },
      "source": [
        "!cp /content/drive/MyDrive/EmbedKGQA/data/QA_data/aristoQA_train.txt /content/EmbedKGQA/data/QA_data/"
      ],
      "execution_count": null,
      "outputs": []
    },
    {
      "cell_type": "code",
      "metadata": {
        "id": "Wl4hXDDYwnjg",
        "colab": {
          "base_uri": "https://localhost:8080/"
        },
        "outputId": "1fc8d840-b931-4558-f8b2-06575944f2ae"
      },
      "source": [
        "!python3 main.py --mode train --relation_dim 50 --do_batch_norm 1 \\\n",
        "--gpu 0 --freeze 1 --batch_size 16 --validate_every 10 --hops aristo --lr 0.00002 --entdrop 0.0 --reldrop 0.0 --scoredrop 0.0 \\\n",
        "--decay 1.0 --model ComplEx --patience 20 --ls 0.05 --l3_reg 0.001 --nb_epochs 10 --outfile sciq"
      ],
      "execution_count": null,
      "outputs": [
        {
          "output_type": "stream",
          "name": "stdout",
          "text": [
            "Loading entities and relations\n",
            "Loading kg embeddings from ../../pretrained_models/embeddings/checkpoint_best.pt\n",
            "Loading configuration of dataset SciQ from /content/drive/MyDrive/kge/data/SciQ ...\n",
            "Loaded entities and relations\n",
            "data_line\n",
            "['What is the stored food in a seed called? [food]', 'endosperm']\n",
            "question\n",
            "['What is the stored food in a seed called? ', 'food]']\n",
            "data\n",
            "[['food', 'What is the stored food in a seed called? NE', ['endosperm']]]\n",
            "Train file processed, making dataloader\n",
            "Creating model...\n",
            "Downloading: 100% 478M/478M [00:11<00:00, 45.2MB/s]\n",
            "Some weights of the model checkpoint at roberta-base were not used when initializing RobertaModel: ['lm_head.dense.weight', 'lm_head.bias', 'lm_head.layer_norm.weight', 'lm_head.layer_norm.bias', 'lm_head.dense.bias', 'lm_head.decoder.weight']\n",
            "- This IS expected if you are initializing RobertaModel from the checkpoint of a model trained on another task or with another architecture (e.g. initializing a BertForSequenceClassification model from a BertForPreTraining model).\n",
            "- This IS NOT expected if you are initializing RobertaModel from the checkpoint of a model that you expect to be exactly identical (initializing a BertForSequenceClassification model from a BertForSequenceClassification model).\n",
            "Model is ComplEx\n",
            "Frozen: True\n",
            "torch.Size([15, 100])\n",
            "Model created!\n",
            "0/10: 100% 1/1 [00:01<00:00,  1.05s/batches, Epoch=0, Loss=0.302]\n",
            "0/10: 100% 1/1 [00:00<00:00,  1.10batches/s, Epoch=0, Loss=0.204]\n",
            "0/10: 100% 1/1 [00:00<00:00,  1.00batches/s, Epoch=0, Loss=0.154]\n",
            "0/10: 100% 1/1 [00:00<00:00,  1.12batches/s, Epoch=0, Loss=0.0742]\n",
            "0/10: 100% 1/1 [00:00<00:00,  1.10batches/s, Epoch=0, Loss=0.25]\n",
            "0/10: 100% 1/1 [00:00<00:00,  1.10batches/s, Epoch=0, Loss=0.075]\n",
            "0/10: 100% 1/1 [00:00<00:00,  1.04batches/s, Epoch=0, Loss=0.0711]\n",
            "0/10: 100% 1/1 [00:00<00:00,  1.09batches/s, Epoch=0, Loss=0.0708]\n",
            "0/10: 100% 1/1 [00:00<00:00,  1.11batches/s, Epoch=0, Loss=0.153]\n",
            "0/10: 100% 1/1 [00:00<00:00,  1.13batches/s, Epoch=0, Loss=0.0572]\n",
            "data_line\n",
            "['What is the stored food in a seed called? [food]', 'endosperm']\n",
            "question\n",
            "['What is the stored food in a seed called? ', 'food]']\n",
            "100% 1/1 [00:00<00:00, 42.73it/s]\n",
            "Wrote to  /content/drive/MyDrive/EmbedKGQA_final/output/answers.txt\n",
            "aristo hop Validation accuracy (no relation scoring) increased from previous epoch 1.0\n",
            "1/10: 100% 1/1 [00:00<00:00,  1.07batches/s, Epoch=1, Loss=0.0496]\n",
            "1/10: 100% 1/1 [00:00<00:00,  1.01batches/s, Epoch=1, Loss=0.0566]\n",
            "1/10: 100% 1/1 [00:00<00:00,  1.09batches/s, Epoch=1, Loss=0.0411]\n",
            "1/10: 100% 1/1 [00:00<00:00,  1.09batches/s, Epoch=1, Loss=0.0375]\n",
            "1/10: 100% 1/1 [00:00<00:00,  1.11batches/s, Epoch=1, Loss=0.0391]\n",
            "1/10: 100% 1/1 [00:00<00:00,  1.02batches/s, Epoch=1, Loss=0.0372]\n",
            "1/10: 100% 1/1 [00:01<00:00,  1.03s/batches, Epoch=1, Loss=0.0399]\n",
            "1/10: 100% 1/1 [00:01<00:00,  1.06s/batches, Epoch=1, Loss=0.0211]\n",
            "1/10: 100% 1/1 [00:01<00:00,  1.01s/batches, Epoch=1, Loss=0.017]\n",
            "1/10: 100% 1/1 [00:01<00:00,  1.13s/batches, Epoch=1, Loss=0.0171]\n",
            "data_line\n",
            "['What is the stored food in a seed called? [food]', 'endosperm']\n",
            "question\n",
            "['What is the stored food in a seed called? ', 'food]']\n",
            "100% 1/1 [00:00<00:00, 29.47it/s]\n",
            "Wrote to  /content/drive/MyDrive/EmbedKGQA_final/output/answers.txt\n",
            "Validation accuracy decreases to 1.000000 from 1.000000, 19 more epoch to check\n",
            "2/10: 100% 1/1 [00:01<00:00,  1.05s/batches, Epoch=2, Loss=0.0141]\n",
            "2/10: 100% 1/1 [00:01<00:00,  1.06s/batches, Epoch=2, Loss=0.0142]\n",
            "2/10: 100% 1/1 [00:01<00:00,  1.05s/batches, Epoch=2, Loss=0.0128]\n",
            "2/10: 100% 1/1 [00:01<00:00,  1.15s/batches, Epoch=2, Loss=0.018]\n",
            "2/10: 100% 1/1 [00:01<00:00,  1.07s/batches, Epoch=2, Loss=0.0128]\n",
            "2/10: 100% 1/1 [00:01<00:00,  1.18s/batches, Epoch=2, Loss=0.0567]\n",
            "2/10: 100% 1/1 [00:01<00:00,  1.14s/batches, Epoch=2, Loss=0.0256]\n",
            "2/10: 100% 1/1 [00:01<00:00,  1.02s/batches, Epoch=2, Loss=0.00932]\n",
            "2/10: 100% 1/1 [00:00<00:00,  1.12batches/s, Epoch=2, Loss=0.00608]\n",
            "2/10: 100% 1/1 [00:00<00:00,  1.07batches/s, Epoch=2, Loss=0.012]\n",
            "data_line\n",
            "['What is the stored food in a seed called? [food]', 'endosperm']\n",
            "question\n",
            "['What is the stored food in a seed called? ', 'food]']\n",
            "100% 1/1 [00:00<00:00, 28.00it/s]\n",
            "Wrote to  /content/drive/MyDrive/EmbedKGQA_final/output/answers.txt\n",
            "Validation accuracy decreases to 1.000000 from 1.000000, 18 more epoch to check\n",
            "3/10: 100% 1/1 [00:00<00:00,  1.02batches/s, Epoch=3, Loss=0.0082]\n",
            "3/10: 100% 1/1 [00:00<00:00,  1.08batches/s, Epoch=3, Loss=0.00736]\n",
            "3/10: 100% 1/1 [00:00<00:00,  1.09batches/s, Epoch=3, Loss=0.00513]\n",
            "3/10: 100% 1/1 [00:00<00:00,  1.09batches/s, Epoch=3, Loss=0.00826]\n",
            "3/10: 100% 1/1 [00:01<00:00,  1.01s/batches, Epoch=3, Loss=0.00557]\n",
            "3/10: 100% 1/1 [00:00<00:00,  1.08batches/s, Epoch=3, Loss=0.00331]\n",
            "3/10: 100% 1/1 [00:01<00:00,  1.02s/batches, Epoch=3, Loss=0.00498]\n",
            "3/10: 100% 1/1 [00:00<00:00,  1.03batches/s, Epoch=3, Loss=0.00504]\n",
            "3/10: 100% 1/1 [00:00<00:00,  1.11batches/s, Epoch=3, Loss=0.00295]\n",
            "3/10: 100% 1/1 [00:00<00:00,  1.10batches/s, Epoch=3, Loss=0.00166]\n",
            "data_line\n",
            "['What is the stored food in a seed called? [food]', 'endosperm']\n",
            "question\n",
            "['What is the stored food in a seed called? ', 'food]']\n",
            "100% 1/1 [00:00<00:00, 40.95it/s]\n",
            "Wrote to  /content/drive/MyDrive/EmbedKGQA_final/output/answers.txt\n",
            "Validation accuracy decreases to 1.000000 from 1.000000, 17 more epoch to check\n",
            "4/10: 100% 1/1 [00:00<00:00,  1.09batches/s, Epoch=4, Loss=0.00175]\n",
            "4/10: 100% 1/1 [00:00<00:00,  1.01batches/s, Epoch=4, Loss=0.00373]\n",
            "4/10: 100% 1/1 [00:00<00:00,  1.09batches/s, Epoch=4, Loss=0.00324]\n",
            "4/10: 100% 1/1 [00:00<00:00,  1.11batches/s, Epoch=4, Loss=0.00146]\n",
            "4/10: 100% 1/1 [00:00<00:00,  1.11batches/s, Epoch=4, Loss=0.00204]\n",
            "4/10: 100% 1/1 [00:00<00:00,  1.08batches/s, Epoch=4, Loss=0.00627]\n",
            "4/10: 100% 1/1 [00:01<00:00,  1.01s/batches, Epoch=4, Loss=0.00149]\n",
            "4/10: 100% 1/1 [00:00<00:00,  1.10batches/s, Epoch=4, Loss=0.0421]\n",
            "4/10: 100% 1/1 [00:01<00:00,  1.01s/batches, Epoch=4, Loss=0.0273]\n",
            "4/10: 100% 1/1 [00:00<00:00,  1.02batches/s, Epoch=4, Loss=0.00282]\n",
            "data_line\n",
            "['What is the stored food in a seed called? [food]', 'endosperm']\n",
            "question\n",
            "['What is the stored food in a seed called? ', 'food]']\n",
            "100% 1/1 [00:00<00:00, 34.97it/s]\n",
            "Wrote to  /content/drive/MyDrive/EmbedKGQA_final/output/answers.txt\n",
            "Validation accuracy decreases to 1.000000 from 1.000000, 16 more epoch to check\n",
            "5/10: 100% 1/1 [00:00<00:00,  1.10batches/s, Epoch=5, Loss=0.00302]\n",
            "5/10: 100% 1/1 [00:00<00:00,  1.08batches/s, Epoch=5, Loss=0.00279]\n",
            "5/10: 100% 1/1 [00:00<00:00,  1.04batches/s, Epoch=5, Loss=0.00706]\n",
            "5/10: 100% 1/1 [00:00<00:00,  1.03batches/s, Epoch=5, Loss=0.00201]\n",
            "5/10: 100% 1/1 [00:00<00:00,  1.07batches/s, Epoch=5, Loss=0.00223]\n",
            "5/10: 100% 1/1 [00:00<00:00,  1.09batches/s, Epoch=5, Loss=0.00252]\n",
            "5/10: 100% 1/1 [00:00<00:00,  1.11batches/s, Epoch=5, Loss=0.00151]\n",
            "5/10: 100% 1/1 [00:00<00:00,  1.10batches/s, Epoch=5, Loss=0.00172]\n",
            "5/10: 100% 1/1 [00:00<00:00,  1.02batches/s, Epoch=5, Loss=0.00185]\n",
            "5/10: 100% 1/1 [00:00<00:00,  1.06batches/s, Epoch=5, Loss=0.0075]\n",
            "data_line\n",
            "['What is the stored food in a seed called? [food]', 'endosperm']\n",
            "question\n",
            "['What is the stored food in a seed called? ', 'food]']\n",
            "100% 1/1 [00:00<00:00, 43.53it/s]\n",
            "Wrote to  /content/drive/MyDrive/EmbedKGQA_final/output/answers.txt\n",
            "Validation accuracy decreases to 1.000000 from 1.000000, 15 more epoch to check\n",
            "6/10: 100% 1/1 [00:00<00:00,  1.03batches/s, Epoch=6, Loss=0.00359]\n",
            "6/10: 100% 1/1 [00:00<00:00,  1.10batches/s, Epoch=6, Loss=0.00316]\n",
            "6/10: 100% 1/1 [00:00<00:00,  1.07batches/s, Epoch=6, Loss=0.00186]\n",
            "6/10: 100% 1/1 [00:00<00:00,  1.11batches/s, Epoch=6, Loss=0.00135]\n",
            "6/10: 100% 1/1 [00:00<00:00,  1.02batches/s, Epoch=6, Loss=0.000673]\n",
            "6/10: 100% 1/1 [00:00<00:00,  1.10batches/s, Epoch=6, Loss=0.000816]\n",
            "6/10: 100% 1/1 [00:00<00:00,  1.03batches/s, Epoch=6, Loss=0.00145]\n",
            "6/10: 100% 1/1 [00:00<00:00,  1.06batches/s, Epoch=6, Loss=0.00138]\n",
            "6/10: 100% 1/1 [00:00<00:00,  1.07batches/s, Epoch=6, Loss=0.00189]\n",
            "6/10: 100% 1/1 [00:00<00:00,  1.09batches/s, Epoch=6, Loss=0.000681]\n",
            "data_line\n",
            "['What is the stored food in a seed called? [food]', 'endosperm']\n",
            "question\n",
            "['What is the stored food in a seed called? ', 'food]']\n",
            "100% 1/1 [00:00<00:00, 42.64it/s]\n",
            "Wrote to  /content/drive/MyDrive/EmbedKGQA_final/output/answers.txt\n",
            "Validation accuracy decreases to 1.000000 from 1.000000, 14 more epoch to check\n",
            "7/10: 100% 1/1 [00:00<00:00,  1.09batches/s, Epoch=7, Loss=0.00221]\n",
            "7/10: 100% 1/1 [00:00<00:00,  1.01batches/s, Epoch=7, Loss=0.00165]\n",
            "7/10: 100% 1/1 [00:00<00:00,  1.08batches/s, Epoch=7, Loss=0.00085]\n",
            "7/10: 100% 1/1 [00:00<00:00,  1.10batches/s, Epoch=7, Loss=0.000962]\n",
            "7/10: 100% 1/1 [00:01<00:00,  1.02s/batches, Epoch=7, Loss=0.00283]\n",
            "7/10: 100% 1/1 [00:00<00:00,  1.10batches/s, Epoch=7, Loss=0.00558]\n",
            "7/10: 100% 1/1 [00:01<00:00,  1.03s/batches, Epoch=7, Loss=0.00146]\n",
            "7/10: 100% 1/1 [00:00<00:00,  1.01batches/s, Epoch=7, Loss=0.00298]\n",
            "7/10: 100% 1/1 [00:00<00:00,  1.11batches/s, Epoch=7, Loss=0.00221]\n",
            "7/10: 100% 1/1 [00:00<00:00,  1.11batches/s, Epoch=7, Loss=0.00145]\n",
            "data_line\n",
            "['What is the stored food in a seed called? [food]', 'endosperm']\n",
            "question\n",
            "['What is the stored food in a seed called? ', 'food]']\n",
            "100% 1/1 [00:00<00:00, 41.89it/s]\n",
            "Wrote to  /content/drive/MyDrive/EmbedKGQA_final/output/answers.txt\n",
            "Validation accuracy decreases to 1.000000 from 1.000000, 13 more epoch to check\n",
            "8/10: 100% 1/1 [00:00<00:00,  1.11batches/s, Epoch=8, Loss=0.00388]\n",
            "8/10: 100% 1/1 [00:00<00:00,  1.10batches/s, Epoch=8, Loss=0.00703]\n",
            "8/10: 100% 1/1 [00:01<00:00,  1.00s/batches, Epoch=8, Loss=0.00347]\n",
            "8/10: 100% 1/1 [00:00<00:00,  1.08batches/s, Epoch=8, Loss=0.00152]\n",
            "8/10: 100% 1/1 [00:00<00:00,  1.09batches/s, Epoch=8, Loss=0.00406]\n",
            "8/10: 100% 1/1 [00:00<00:00,  1.08batches/s, Epoch=8, Loss=0.00185]\n",
            "8/10: 100% 1/1 [00:00<00:00,  1.08batches/s, Epoch=8, Loss=0.00277]\n",
            "8/10: 100% 1/1 [00:00<00:00,  1.03batches/s, Epoch=8, Loss=0.0015]\n",
            "8/10: 100% 1/1 [00:00<00:00,  1.02batches/s, Epoch=8, Loss=0.00645]\n",
            "8/10: 100% 1/1 [00:00<00:00,  1.03batches/s, Epoch=8, Loss=0.000663]\n",
            "data_line\n",
            "['What is the stored food in a seed called? [food]', 'endosperm']\n",
            "question\n",
            "['What is the stored food in a seed called? ', 'food]']\n",
            "100% 1/1 [00:00<00:00, 28.57it/s]\n",
            "Wrote to  /content/drive/MyDrive/EmbedKGQA_final/output/answers.txt\n",
            "Validation accuracy decreases to 1.000000 from 1.000000, 12 more epoch to check\n",
            "9/10: 100% 1/1 [00:00<00:00,  1.09batches/s, Epoch=9, Loss=0.0197]\n",
            "9/10: 100% 1/1 [00:00<00:00,  1.09batches/s, Epoch=9, Loss=0.00194]\n",
            "9/10: 100% 1/1 [00:00<00:00,  1.10batches/s, Epoch=9, Loss=0.000704]\n",
            "9/10: 100% 1/1 [00:00<00:00,  1.10batches/s, Epoch=9, Loss=0.000732]\n",
            "9/10: 100% 1/1 [00:00<00:00,  1.01batches/s, Epoch=9, Loss=0.00357]\n",
            "9/10: 100% 1/1 [00:00<00:00,  1.09batches/s, Epoch=9, Loss=0.00071]\n",
            "9/10: 100% 1/1 [00:00<00:00,  1.08batches/s, Epoch=9, Loss=0.00128]\n",
            "9/10: 100% 1/1 [00:00<00:00,  1.08batches/s, Epoch=9, Loss=0.00112]\n",
            "9/10: 100% 1/1 [00:01<00:00,  1.02s/batches, Epoch=9, Loss=0.00212]\n",
            "9/10: 100% 1/1 [00:00<00:00,  1.07batches/s, Epoch=9, Loss=0.00115]\n",
            "data_line\n",
            "['What is the stored food in a seed called? [food]', 'endosperm']\n",
            "question\n",
            "['What is the stored food in a seed called? ', 'food]']\n",
            "100% 1/1 [00:00<00:00, 38.33it/s]\n",
            "Wrote to  /content/drive/MyDrive/EmbedKGQA_final/output/answers.txt\n",
            "Validation accuracy decreases to 1.000000 from 1.000000, 11 more epoch to check\n",
            "Final Epoch has reached. Stoping and saving model.\n"
          ]
        }
      ]
    },
    {
      "cell_type": "code",
      "metadata": {
        "colab": {
          "base_uri": "https://localhost:8080/"
        },
        "id": "S67L4p770GPZ",
        "outputId": "bc2d598c-df11-4102-8c9c-aae209671cea"
      },
      "source": [
        "!pwd"
      ],
      "execution_count": null,
      "outputs": [
        {
          "name": "stdout",
          "output_type": "stream",
          "text": [
            "/content/EmbedKGQA/KGQA/RoBERTa\n"
          ]
        }
      ]
    },
    {
      "cell_type": "code",
      "metadata": {
        "colab": {
          "base_uri": "https://localhost:8080/"
        },
        "id": "7k4bXWrw9SaU",
        "outputId": "192c3a9a-7b0f-4f7e-dcf8-fab4a7e89987"
      },
      "source": [
        "!python3 main.py --mode eval --load_from aristo_reduced --relation_dim 50 --do_batch_norm 1 \\\n",
        "--gpu 0 --freeze 1 --batch_size 16 --validate_every 10 --hops aristo --lr 0.00002 --entdrop 0.0 --reldrop 0.0 --scoredrop 0.0 \\\n",
        "--decay 1.0 --model ComplEx --patience 20 --ls 0.05 --l3_reg 0.001 --nb_epochs 20 --outfile aristo_reduced"
      ],
      "execution_count": null,
      "outputs": [
        {
          "output_type": "stream",
          "name": "stdout",
          "text": [
            "Loading entities and relations\n",
            "Loading kg embeddings from ../../pretrained_models/embeddings/aristo/checkpoint_best.pt\n",
            "Loading configuration of dataset aristo from /content/drive/MyDrive/kge/data/aristo ...\n",
            "Loaded entities and relations\n",
            "Evaluation file processed, making dataloader\n",
            "Creating model...\n",
            "Some weights of the model checkpoint at roberta-base were not used when initializing RobertaModel: ['lm_head.decoder.weight', 'lm_head.layer_norm.weight', 'lm_head.layer_norm.bias', 'lm_head.dense.weight', 'lm_head.dense.bias', 'lm_head.bias']\n",
            "- This IS expected if you are initializing RobertaModel from the checkpoint of a model trained on another task or with another architecture (e.g. initializing a BertForSequenceClassification model from a BertForPreTraining model).\n",
            "- This IS NOT expected if you are initializing RobertaModel from the checkpoint of a model that you expect to be exactly identical (initializing a BertForSequenceClassification model from a BertForSequenceClassification model).\n",
            "Model is ComplEx\n",
            "Frozen: True\n",
            "torch.Size([44948, 100])\n",
            "Model created!\n",
            "Loading from /content/EmbedKGQA/output/aristo_reduced.pt\n",
            "Loaded successfully!\n",
            "100% 608/608 [00:15<00:00, 40.20it/s]\n",
            "wrote candidate file (for future answer processing)\n",
            "Score 0.6118421052631579\n"
          ]
        }
      ]
    },
    {
      "cell_type": "code",
      "metadata": {
        "id": "XoHh5I4CF8v-"
      },
      "source": [
        "# 1) Score 0.03832752613240418\n",
        "!cp -r /content/EmbedKGQA /content/drive/MyDrive/"
      ],
      "execution_count": null,
      "outputs": []
    },
    {
      "cell_type": "markdown",
      "metadata": {
        "id": "K4a8sGpD-Xw4"
      },
      "source": [
        "# **Run Inference**"
      ]
    },
    {
      "cell_type": "code",
      "metadata": {
        "colab": {
          "base_uri": "https://localhost:8080/"
        },
        "id": "-CoIVd5D-XVJ",
        "outputId": "34fc80d2-7b38-444f-f082-b9f6d21ee77c"
      },
      "source": [
        "from tqdm import tqdm\n",
        "\n",
        "def load_questions_answers(question_path, ans_choice_path):\n",
        "\n",
        "  ans_choices = []\n",
        "  with open(ans_choice_path) as f:\n",
        "    choices = f.readlines()\n",
        "    # print(choices)\n",
        "    for choice in choices:\n",
        "      choice = choice.strip(\"\\n\").split('\\t')\n",
        "      ans_choices.append([choice[0], choice[1], choice[2], choice[3]])\n",
        "\n",
        "  questions = []\n",
        "  with open(question_path) as f:\n",
        "    qs = f.readlines()\n",
        "    # print(questions)\n",
        "    for ques in qs:\n",
        "      ques = ques.strip(\"\\n\")\n",
        "      questions.append(ques)\n",
        "      \n",
        "\n",
        "  return questions, ans_choices\n",
        "\n",
        "question_path = '/content/EmbedKGQA/data/QA_data/questions.txt'\n",
        "ans_choice_path = '/content/EmbedKGQA/data/QA_data/QA_choices.txt'\n",
        "questions, ans_choices = load_questions_answers(question_path, ans_choice_path)\n",
        "print(len(questions), len(ans_choices))"
      ],
      "execution_count": null,
      "outputs": [
        {
          "name": "stdout",
          "output_type": "stream",
          "text": [
            "287 287\n"
          ]
        }
      ]
    },
    {
      "cell_type": "code",
      "metadata": {
        "colab": {
          "base_uri": "https://localhost:8080/",
          "height": 35
        },
        "id": "mGYhzpPc3qh3",
        "outputId": "3e104ec9-ba6b-4c16-8a41-4d80402c5964"
      },
      "source": [
        "import shutil\n",
        "shutil.copytree(\"/content/EmbedKGQA\", '/content/drive/MyDrive/EmbedKGQA_final')"
      ],
      "execution_count": null,
      "outputs": [
        {
          "output_type": "execute_result",
          "data": {
            "application/vnd.google.colaboratory.intrinsic+json": {
              "type": "string"
            },
            "text/plain": [
              "'/content/drive/MyDrive/EmbedKGQA_final'"
            ]
          },
          "metadata": {},
          "execution_count": 151
        }
      ]
    },
    {
      "cell_type": "code",
      "metadata": {
        "colab": {
          "base_uri": "https://localhost:8080/"
        },
        "id": "PwqoQ0BJ-y3j",
        "outputId": "d7f5e3d4-b558-4027-9c78-3e86e897345d"
      },
      "source": [
        "%cd /content/EmbedKGQA/KGQA/RoBERTa"
      ],
      "execution_count": null,
      "outputs": [
        {
          "name": "stdout",
          "output_type": "stream",
          "text": [
            "/content/EmbedKGQA/KGQA/RoBERTa\n"
          ]
        }
      ]
    },
    {
      "cell_type": "code",
      "metadata": {
        "colab": {
          "base_uri": "https://localhost:8080/"
        },
        "id": "og48ye3EQXxZ",
        "outputId": "5249ebed-acb1-420b-9d59-b06c6828040e"
      },
      "source": [
        "!pwd"
      ],
      "execution_count": null,
      "outputs": [
        {
          "name": "stdout",
          "output_type": "stream",
          "text": [
            "/content/EmbedKGQA/KGQA/RoBERTa\n"
          ]
        }
      ]
    },
    {
      "cell_type": "code",
      "metadata": {
        "id": "CJJFsz6ZQZfJ"
      },
      "source": [
        ""
      ],
      "execution_count": null,
      "outputs": []
    },
    {
      "cell_type": "code",
      "metadata": {
        "id": "SrfSC_f0z8hz"
      },
      "source": [
        "!cp /content/drive/MyDrive/EmbedKGQA/output/aristo_reduced.pt /content/EmbedKGQA/output/"
      ],
      "execution_count": null,
      "outputs": []
    },
    {
      "cell_type": "code",
      "metadata": {
        "id": "LYCZRP0W_7rH"
      },
      "source": [
        "import torch\n",
        "device = torch.device(0)"
      ],
      "execution_count": null,
      "outputs": []
    },
    {
      "cell_type": "code",
      "metadata": {
        "id": "UghT6dHalSnb"
      },
      "source": [
        "import os\n",
        "import torch\n",
        "import numpy as np\n",
        "from torch.utils.data import Dataset, DataLoader\n",
        "import torch.nn as nn\n",
        "from torch.nn import functional as F\n",
        "from dataloader import DatasetMetaQA, DataLoaderMetaQA\n",
        "from model import RelationExtractor\n",
        "import networkx as nx\n",
        "from kge.model import KgeModel\n",
        "from kge.util.io import load_checkpoint\n",
        "\n",
        "def getEntityEmbeddings(kge_model):\n",
        "    e = {}\n",
        "    entity_dict = '../../pretrained_models/embeddings/aristo/entity_ids.del'\n",
        "    embedder = kge_model._entity_embedder\n",
        "    f = open(entity_dict, 'r')\n",
        "    for line in f:\n",
        "        line = line[:-1].split('\\t')\n",
        "        ent_id = int(line[0])\n",
        "        ent_name = line[1]\n",
        "        e[ent_name] = embedder._embeddings(torch.LongTensor([ent_id]))[0]\n",
        "    f.close()\n",
        "    return e\n",
        "\n",
        "def prepare_embeddings(embedding_dict):\n",
        "    entity2idx = {}\n",
        "    idx2entity = {}\n",
        "    i = 0\n",
        "    embedding_matrix = []\n",
        "    for key, entity in embedding_dict.items():\n",
        "        entity2idx[key] = i\n",
        "        idx2entity[i] = key\n",
        "        i += 1\n",
        "        embedding_matrix.append(entity)\n",
        "    return entity2idx, idx2entity, embedding_matrix\n",
        "\n",
        "\n",
        "embedding_dim = 256\n",
        "relation_dim = 50\n",
        "model_name = 'ComplEx'\n",
        "do_batch_norm = 1\n",
        "\n",
        "def load_models(load_from):\n",
        "    \n",
        "    #Load KG Embeddings\n",
        "    checkpoint_file = '../../pretrained_models/embeddings/aristo/checkpoint_best.pt'\n",
        "    print('Loading kg embeddings from', checkpoint_file)\n",
        "    kge_checkpoint = load_checkpoint(checkpoint_file)\n",
        "    kge_model = KgeModel.create_from(kge_checkpoint)\n",
        "    kge_model.eval()\n",
        "    e = getEntityEmbeddings(kge_model)\n",
        "\n",
        "    print('Loaded entities and relations')\n",
        "\n",
        "    entity2idx, idx2entity, embedding_matrix = prepare_embeddings(e)\n",
        "\n",
        "\n",
        "    #Load RE Model\n",
        "    model = RelationExtractor(embedding_dim=embedding_dim, num_entities = len(idx2entity), relation_dim=relation_dim, \n",
        "                              pretrained_embeddings=embedding_matrix, device=device, \n",
        "                              model = model_name, do_batch_norm=do_batch_norm)\n",
        "      \n",
        "    fname = \"/content/EmbedKGQA/output/\" + load_from + \".pt\"\n",
        "    print('Loading from %s' % fname)\n",
        "    model.load_state_dict(torch.load(fname, map_location=torch.device('cpu')))\n",
        "    print('Loaded successfully!')\n",
        "    model.to(device)\n",
        "\n",
        "    return model, e, entity2idx, idx2entity, embedding_matrix\n",
        "\n",
        "def get_prediction(model, question, ans_choices, e, entity2idx, idx2entity, embedding_matrix):\n",
        "\n",
        "  #Getting head and question\n",
        "  # print(question)\n",
        "  question = question.split('[')\n",
        "  question_1 = question[0]\n",
        "  question_2 = question[1].split(']')\n",
        "  head = question_2[0].strip()\n",
        "  question_2 = question_2[1]\n",
        "  question = question_1+'NE'+question_2\n",
        "  # print(question, head)\n",
        "  head = entity2idx[head.strip()]\n",
        "  head = torch.tensor(head, dtype=torch.long)\n",
        "  head = head.to(device)\n",
        "  data = [head, question]\n",
        "  # Get_prediction\n",
        "  dataloader = DatasetMetaQA(data, e, entity2idx)\n",
        "  \n",
        "  question_tokenized, attention_mask = dataloader.tokenize_question(question)\n",
        "  question_tokenized = question_tokenized.to(device)\n",
        "  attention_mask = attention_mask.to(device)\n",
        "\n",
        "  # print(head)\n",
        "  pred = model.get_score_ranked(head=head, question_tokenized=question_tokenized, attention_mask=attention_mask)[0]\n",
        "  pred = pred.view(1, 44948)\n",
        "  pred = torch.nn.functional.normalize(pred, p=2.0, dim=1, eps=1e-12, out=None)\n",
        "  # print('*****pred_embedding******')\n",
        "  # print(pred.size())\n",
        "\n",
        "  ans_embeddings = []\n",
        "  for choice in ans_choices:\n",
        "    ans_tokenized, ans_attention_mask = dataloader.tokenize_question(choice)\n",
        "    ans_tokenized = ans_tokenized.to(device)\n",
        "    ans_attention_mask = ans_attention_mask.to(device)\n",
        "    ans_embedding = model.getQuestionEmbedding(ans_tokenized.unsqueeze(0), ans_attention_mask.unsqueeze(0))\n",
        "    \n",
        "    hidden2rel_ans = nn.Linear(768, 44948).to(device)\n",
        "    ans_embedding = hidden2rel_ans(ans_embedding)\n",
        "    # ans_embedding = torch.nn.functional.normalize(ans_embedding, p=2.0, dim=1, eps=1e-12, out=None)\n",
        "    ans_embeddings.append(ans_embedding)\n",
        "\n",
        "  #Select ans which is closest to predicted value\n",
        "  minimum_dist = float('inf')\n",
        "  ans_index = -1\n",
        "  for i, ans in enumerate(ans_embeddings):\n",
        "    \n",
        "    output = torch.cdist(ans,pred)\n",
        "    # print(output)\n",
        "    if minimum_dist > output:\n",
        "      minimum_dist = output\n",
        "      ans_index = i\n",
        "\n",
        "  return ans_choices[ans_index]"
      ],
      "execution_count": null,
      "outputs": []
    },
    {
      "cell_type": "code",
      "metadata": {
        "id": "fQ-61u-pClJ_"
      },
      "source": [
        "model, e, entity2idx, idx2entity, embedding_matrix = load_models('aristo_reduced')\n",
        "total = len(questions)\n",
        "correct = 0\n",
        "count = 0\n",
        "for ques, ans in tqdm(zip(questions, ans_choices)):\n",
        "\n",
        "  pred = get_prediction(model, ques, ans, e, entity2idx, idx2entity, embedding_matrix)\n",
        "  if pred == ans[-1]:\n",
        "    correct += 1\n",
        "  count += 1\n",
        "  if (count == 10):\n",
        "    count = 0\n",
        "    print(correct)\n",
        "print(correct)\n",
        "accuracy = correct/total * 100\n",
        "\n",
        "print(f'accuracy = {accuracy}%')\n"
      ],
      "execution_count": null,
      "outputs": []
    },
    {
      "cell_type": "code",
      "metadata": {
        "id": "i4USIFJuIiJn",
        "colab": {
          "base_uri": "https://localhost:8080/"
        },
        "outputId": "b912a1c7-3b63-4adb-8070-f37d1804d6e4"
      },
      "source": [
        "model, e, entity2idx, idx2entity, embedding_matrix = load_models('aristo_reduced')"
      ],
      "execution_count": null,
      "outputs": [
        {
          "output_type": "stream",
          "name": "stdout",
          "text": [
            "Loading kg embeddings from ../../pretrained_models/embeddings/aristo/checkpoint_best.pt\n",
            "Loading configuration of dataset aristo from /content/drive/MyDrive/kge/data/aristo ...\n",
            "Loaded entities and relations\n"
          ]
        },
        {
          "output_type": "stream",
          "name": "stderr",
          "text": [
            "Some weights of the model checkpoint at roberta-base were not used when initializing RobertaModel: ['lm_head.layer_norm.bias', 'lm_head.layer_norm.weight', 'lm_head.bias', 'lm_head.dense.bias', 'lm_head.decoder.weight', 'lm_head.dense.weight']\n",
            "- This IS expected if you are initializing RobertaModel from the checkpoint of a model trained on another task or with another architecture (e.g. initializing a BertForSequenceClassification model from a BertForPreTraining model).\n",
            "- This IS NOT expected if you are initializing RobertaModel from the checkpoint of a model that you expect to be exactly identical (initializing a BertForSequenceClassification model from a BertForSequenceClassification model).\n"
          ]
        },
        {
          "output_type": "stream",
          "name": "stdout",
          "text": [
            "Model is ComplEx\n",
            "Frozen: True\n",
            "torch.Size([44948, 100])\n",
            "Loading from /content/EmbedKGQA/output/aristo_reduced.pt\n",
            "Loaded successfully!\n"
          ]
        }
      ]
    },
    {
      "cell_type": "code",
      "metadata": {
        "colab": {
          "base_uri": "https://localhost:8080/"
        },
        "id": "pD6b5JJdCzHW",
        "outputId": "fe183f2c-84b7-4e21-e598-967ba3d568ad"
      },
      "source": [
        "# model, e, entity2idx, idx2entity, embedding_matrix = load_models('aristo_final')\n",
        "total = len(questions)\n",
        "correct = 0\n",
        "print(\"***question***\")\n",
        "print(questions[0])\n",
        "# questions[2] = questions[2].replace(\"presence\", \"vertebrate\")\n",
        "correct_ans = get_prediction(model, questions[0], ans_choices[0], e, entity2idx, idx2entity, embedding_matrix)\n",
        "\n",
        "\n",
        "\n",
        "print(\"***correct_ans***\")\n",
        "print(correct_ans)\n",
        "print(ans_choices[0])"
      ],
      "execution_count": null,
      "outputs": [
        {
          "name": "stdout",
          "output_type": "stream",
          "text": [
            "***question***\n",
            "Vertebrata are characterized by the presence of what? [presence]\n",
            "tensor([[97.4000]], device='cuda:0', grad_fn=<CdistBackward>)\n",
            "tensor([[97.1697]], device='cuda:0', grad_fn=<CdistBackward>)\n",
            "tensor([[96.8201]], device='cuda:0', grad_fn=<CdistBackward>)\n",
            "tensor([[97.3971]], device='cuda:0', grad_fn=<CdistBackward>)\n",
            "***correct_ans***\n",
            "Thumbs\n",
            "['Bones', 'Muscles', 'Thumbs', 'backbone']\n"
          ]
        }
      ]
    },
    {
      "cell_type": "code",
      "metadata": {
        "id": "n0wAGbhQrBtb"
      },
      "source": [
        "# model, e, entity2idx, idx2entity, embedding_matrix = load_models('aristo_final')\n",
        "total = len(questions)\n",
        "correct = 0\n",
        "question = 'Testing what usually requires making observations or performing experiments?'\n",
        "ans_choices = ['']\n",
        "# questions[2] = questions[2].replace(\"presence\", \"vertebrate\")\n",
        "correct_ans = get_prediction(model, question, ans_choices, e, entity2idx, idx2entity, embedding_matrix)\n",
        "\n",
        "print(\"***question***\")\n",
        "print(question)\n",
        "\n",
        "print(\"***correct_ans***\")\n",
        "print(correct_ans)\n",
        "print(ans_choice)"
      ],
      "execution_count": null,
      "outputs": []
    }
  ]
}