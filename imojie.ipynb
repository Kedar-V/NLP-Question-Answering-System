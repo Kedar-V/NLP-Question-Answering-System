{
  "nbformat": 4,
  "nbformat_minor": 0,
  "metadata": {
    "colab": {
      "name": "imojie.ipynb",
      "provenance": [],
      "collapsed_sections": []
    },
    "kernelspec": {
      "name": "python3",
      "display_name": "Python 3"
    },
    "language_info": {
      "name": "python"
    }
  },
  "cells": [
    {
      "cell_type": "code",
      "metadata": {
        "colab": {
          "base_uri": "https://localhost:8080/"
        },
        "id": "uzH-twAPNJr1",
        "outputId": "8125ae9d-1cc0-44ca-a7c6-032a65ffbb4c"
      },
      "source": [
        "!git clone https://github.com/dair-iitd/imojie.git"
      ],
      "execution_count": null,
      "outputs": [
        {
          "output_type": "stream",
          "name": "stdout",
          "text": [
            "Cloning into 'imojie'...\n",
            "remote: Enumerating objects: 1879, done.\u001b[K\n",
            "remote: Counting objects: 100% (1879/1879), done.\u001b[K\n",
            "remote: Compressing objects: 100% (1524/1524), done.\u001b[K\n",
            "remote: Total 1879 (delta 354), reused 1827 (delta 311), pack-reused 0\u001b[K\n",
            "Receiving objects: 100% (1879/1879), 10.50 MiB | 21.77 MiB/s, done.\n",
            "Resolving deltas: 100% (354/354), done.\n"
          ]
        }
      ]
    },
    {
      "cell_type": "code",
      "metadata": {
        "id": "UUh_9S6GNEZW"
      },
      "source": [
        "%cd /content/imojie\n",
        "!pip install -r requirements.txt"
      ],
      "execution_count": null,
      "outputs": []
    },
    {
      "cell_type": "code",
      "metadata": {
        "colab": {
          "base_uri": "https://localhost:8080/"
        },
        "id": "0FP4AoG1NKs9",
        "outputId": "5cc58382-9c28-428a-c1cd-c9315f89bdad"
      },
      "source": [
        "import nltk\n",
        "nltk.download('stopwords')"
      ],
      "execution_count": null,
      "outputs": [
        {
          "output_type": "stream",
          "name": "stdout",
          "text": [
            "[nltk_data] Downloading package stopwords to /root/nltk_data...\n",
            "[nltk_data]   Unzipping corpora/stopwords.zip.\n"
          ]
        },
        {
          "output_type": "execute_result",
          "data": {
            "text/plain": [
              "True"
            ]
          },
          "metadata": {},
          "execution_count": 3
        }
      ]
    },
    {
      "cell_type": "code",
      "metadata": {
        "colab": {
          "base_uri": "https://localhost:8080/"
        },
        "id": "owqxX0cDNZQf",
        "outputId": "dbacf01f-5d20-422b-ceba-634f9ca3a1de"
      },
      "source": [
        "!zenodo_get 3779954"
      ],
      "execution_count": null,
      "outputs": [
        {
          "output_type": "stream",
          "name": "stdout",
          "text": [
            "Title: IMoJIE Models\n",
            "Keywords: \n",
            "Publication date: 2020-05-01\n",
            "DOI: 10.5281/zenodo.3779954\n",
            "Total size: 6424.8 MB\n",
            "\n",
            "Link: https://zenodo.org/api/files/31736bc8-9c8c-471b-b60b-99cf7c12d24a/imojie_models.tar.gz   size: 6424.8 MB\n",
            "\n",
            "Checksum is correct. (62149e3dc0018a9b0eeb1dfeb44b1492)\n",
            "All files have been downloaded.\n"
          ]
        }
      ]
    },
    {
      "cell_type": "code",
      "metadata": {
        "id": "62maEh8hafjX"
      },
      "source": [
        "!cp /content/imojie/imojie_models.tar.gz /content/drive/MyDrive/imojie"
      ],
      "execution_count": null,
      "outputs": []
    },
    {
      "cell_type": "code",
      "metadata": {
        "id": "cOPUGhrHarLR"
      },
      "source": [
        "!tar -xvzf /content/drive/MyDrive/imojie/imojie_models.tar.gz"
      ],
      "execution_count": null,
      "outputs": []
    },
    {
      "cell_type": "code",
      "metadata": {
        "id": "Stxq5NMYNMvA"
      },
      "source": [
        "!python standalone.py --inp input.txt --out output.txt"
      ],
      "execution_count": null,
      "outputs": []
    },
    {
      "cell_type": "code",
      "metadata": {
        "id": "yQbDMfBPi5jg"
      },
      "source": [
        ""
      ],
      "execution_count": null,
      "outputs": []
    }
  ]
}